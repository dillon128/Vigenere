{
 "cells": [
  {
   "cell_type": "code",
   "execution_count": 63,
   "id": "4974449e-f725-4f01-bd1c-558fd7e1453d",
   "metadata": {},
   "outputs": [],
   "source": [
    "Alphabet = ['A','B','C','D','E','F','G','H','I','J','K','L','M','N','O','P','Q','R','S','T','U','V','W','X','Y','Z']\n",
    "\n",
    "Unscaled = [8.2, 1.5, 2.8, 4.3, 12.7, 2.2, 2.0, 6.1, 7.0, 0.15, 0.77, 4.0, 2.4, 6.7, 7.5, 1.9, 0.095, 6.0, 6.3, 9.1, 2.8, 0.98, 2.4, 0.15, 2.0, 0.074]\n",
    "\n",
    "EnglishFreqs = [i/100 for i in Unscaled]\n",
    "\n",
    "def CleanText(Text):   #Removes all characters that are not a space or in the English alphabet.\n",
    "    CleanText = \"\"\n",
    "    for Char in Text:\n",
    "        if Char.upper() in Alphabet or Char == \" \":\n",
    "            CleanText = CleanText + Char.upper()\n",
    "    return(CleanText)\n",
    "\n",
    "def RemoveSpaces(Text):   #Removes all spaces\n",
    "    NoSpaceText = \"\"\n",
    "    for Char in Text:\n",
    "        if Char.upper() in Alphabet:\n",
    "            NoSpaceText = NoSpaceText + Char.upper()\n",
    "    return(NoSpaceText)\n",
    "\n",
    "def CharacterCount(Text):   #Counts the number of times each letter appears in Text.\n",
    "    CharacterCount = [0] * 26\n",
    "    for Char in Text:\n",
    "        if Char.upper() in Alphabet:\n",
    "            k = Alphabet.index(Char.upper())\n",
    "            CharacterCount[k] = CharacterCount[k] + 1\n",
    "    return(CharacterCount)\n",
    "\n",
    "def Frequencies(Text):   #Gives the frequency of each letter in Text\n",
    "    LenNoSpaces = len(RemoveSpaces(CleanText(Text)))\n",
    "    Frequencies = [i/LenNoSpaces for i in CharacterCount(Text)]\n",
    "    return(Frequencies)\n",
    "\n",
    "def CompareFreqs(Freqs1, Freqs2):   #Produces a bar chart comparing two frequency distributions.\n",
    "    Freqs1Spaced = []\n",
    "    Freqs2Spaced = []\n",
    "    for i in range(26):\n",
    "        Freqs1Spaced.append(Freqs1[i])\n",
    "        Freqs1Spaced.append(0)\n",
    "        Freqs1Spaced.append(0)\n",
    "        Freqs2Spaced.append(0)\n",
    "        Freqs2Spaced.append(Freqs2[i])\n",
    "        Freqs2Spaced.append(0)\n",
    "    G=Graphics()\n",
    "    G += bar_chart(Freqs1Spaced, axes = False, width = 0.8)\n",
    "    G += bar_chart(Freqs2Spaced, rgbcolor=(1,0,0), axes = False, width = 0.8)\n",
    "    return(G)\n",
    "\n",
    "def Grouping(Text, Group):   #Arranges the input text into groups of size Group.\n",
    "    Count = 0\n",
    "    GroupedText = \"\"\n",
    "    for Char in Text:\n",
    "        if Char.upper() in Alphabet:\n",
    "            if Count > 0 and Count % Group == 0:\n",
    "                GroupedText = GroupedText + \" \" + Char.upper()\n",
    "            else:\n",
    "                GroupedText = GroupedText + Char.upper()\n",
    "            Count = Count + 1\n",
    "    return(GroupedText)\n",
    "\n",
    "def ShiftEncryption(Text, Shift):   #Encrypts Text by shifting each letter by the number Shift.\n",
    "    CryptText = \"\"\n",
    "    for Char in Text:\n",
    "        if Char == \" \":\n",
    "            CryptText = CryptText + \" \"\n",
    "        elif Char.upper() in Alphabet:\n",
    "            CryptText = CryptText + Alphabet[(Alphabet.index(Char.upper()) + Shift) % 26]\n",
    "    return(CryptText)\n",
    "\n",
    "def ShiftDecryption(Text, Shift):   #Reverses ShiftEncryption\n",
    "    DecryptText = ShiftEncryption(Text, -Shift)\n",
    "    return(DecryptText)\n",
    "\n",
    "def SubEncryption(Text, Permutation):   #Encryption using a substitution cipher\n",
    "    PermAlphabet = Permutation.action(Alphabet)\n",
    "    CryptText = \"\"\n",
    "    for Char in Text:\n",
    "        if Char.upper() in Alphabet:\n",
    "            CryptText = CryptText+PermAlphabet[Alphabet.index(Char)]\n",
    "        else:\n",
    "            CryptText = CryptText + Char\n",
    "    return CryptText\n",
    "\n",
    "def SubDecryption(Text, Permutation):    #Decryption using a substitution cipher\n",
    "    return SubEncryption(Text, Permutation.inverse())\n",
    "\n",
    "def IndexOfCoincidence(Text):\n",
    "    CharacterCount = [0] * 26   #Initialise a list of 26 copies of 0.\n",
    "    for Char in Text:\n",
    "        if Char.upper() in Alphabet:   #Loop over every character in the input test, exclude non-letters.\n",
    "            i = Alphabet.index(Char.upper())   #Find the position of the character in the alphabet.\n",
    "            CharacterCount[i] = CharacterCount[i] + 1   #Add 1 to the position of that character.\n",
    "    Sum = 0\n",
    "    N = len(RemoveSpaces(CleanText(Text)))   #N is the total number of letters in the input. We ignore spaces.\n",
    "    for i in CharacterCount:\n",
    "        if i > 0:\n",
    "            Sum = Sum + ( i * (i-1) ) / ( N * (N-1) )\n",
    "    return(Sum.numerical_approx(digits = 4))\n",
    "\n",
    "def IndexOfCoincidence(Text):\n",
    "    CharacterCount = [0] * 26  \n",
    "    for Char in Text:\n",
    "        if Char.upper() in Alphabet:   \n",
    "            i = Alphabet.index(Char.upper())   \n",
    "            CharacterCount[i] = CharacterCount[i] + 1  \n",
    "    Sum = 0\n",
    "    N = len(RemoveSpaces(CleanText(Text)))  \n",
    "    for i in CharacterCount:\n",
    "        if i > 0:\n",
    "            Sum = Sum + ( i * (i-1) ) / ( N * (N-1) )\n",
    "    return(Sum.numerical_approx(digits = 4))\n",
    "\n",
    "def RandomText(Length):   #Generates a text with Length characters, chosen uniformly at random.\n",
    "    Text = \"\"\n",
    "    Count = 0\n",
    "    while Count < Length:\n",
    "        Text = Text + Alphabet[floor(random()*26)]\n",
    "        Count = Count + 1\n",
    "    return(Text)\n",
    "\n",
    "def VigenereEncryption(Text, Key):   #Encrypts Text using the Vigenere ciper with Key as the keyword.\n",
    "    NumKey = []\n",
    "    for Char in Key:\n",
    "        NumKey.append(Alphabet.index(Char.upper()))\n",
    "    LenKey = len(Key)\n",
    "    CryptText = \"\"\n",
    "    Count = 0\n",
    "    for i in range(len(Text)):\n",
    "        Char = Text[i].upper()\n",
    "        if Char.upper() in Alphabet:\n",
    "            CryptText = CryptText + Alphabet[(Alphabet.index(Char) + NumKey[Count % LenKey]) % 26]\n",
    "            Count = Count + 1\n",
    "        else:\n",
    "            CryptText = CryptText + Char\n",
    "    return(CryptText)\n",
    "\n",
    "def VigenereDecryption(Text, Key):   #Decrypts Text using the Vigenere ciper with Key as the keyword.\n",
    "    NumKey = []\n",
    "    for Char in Key:\n",
    "        NumKey.append(Alphabet.index(Char.upper()))\n",
    "    LenKey = len(Key)\n",
    "    Decrypt = \"\"\n",
    "    Count = 0\n",
    "    for i in range(len(Text)):\n",
    "        Char = Text[i].upper()\n",
    "        if Char.upper() in Alphabet:\n",
    "            Decrypt = Decrypt + Alphabet[(Alphabet.index(Char) - NumKey[Count % LenKey]) % 26]\n",
    "            Count = Count + 1\n",
    "        else:\n",
    "            Decrypt = Decrypt + Char\n",
    "    return(Decrypt)\n",
    "\n",
    "def PeriodicTexts(Text, Period):   #Extracts every (Period)th letter from Text, starting with position 0,1,2,...\n",
    "    PeriodicTexts = [\"\"] * Period\n",
    "    NewText = RemoveSpaces(CleanText(Text))\n",
    "    for i in range(len(NewText)):\n",
    "        PeriodicTexts[i % Period] = PeriodicTexts[i % Period] + NewText[i]\n",
    "    return(PeriodicTexts)\n",
    "\n",
    "def ChiSquared(Text, Period, StartingPosition):\n",
    "    ExtractedText = PeriodicTexts(Text, Period)[StartingPosition]   #ExtractedText consists of every (Period)th letter, starting with StartingPosition\n",
    "    N = len(ExtractedText)\n",
    "    Counts = CharacterCount(ExtractedText)   #This counts the number of times each letter appears in ExtractedText.\n",
    "    ChiValues = []\n",
    "    for Shift in range(26):\n",
    "        Chi = 0\n",
    "        for i in range(26):\n",
    "            ShiftedFreq = EnglishFreqs[(i - Shift) % 26]   #This is the frequency of letter i, shifted by Shift positions.\n",
    "            Chi = Chi + (Counts[i] - ShiftedFreq * N)^2 / (ShiftedFreq * N)\n",
    "        ChiValues.append(Chi)\n",
    "    return(bar_chart(ChiValues))"
   ]
  },
  {
   "cell_type": "code",
   "execution_count": 64,
   "id": "fcc3bea0-41ed-4460-b1b2-61f4571b53e8",
   "metadata": {},
   "outputs": [],
   "source": [
    "Permutation = Permutations(26).random_element()"
   ]
  },
  {
   "cell_type": "code",
   "execution_count": 65,
   "id": "35b75c39-b5d9-4062-acd3-4564427635e1",
   "metadata": {},
   "outputs": [],
   "source": [
    "Text='RITE OF SPRING'"
   ]
  },
  {
   "cell_type": "code",
   "execution_count": 66,
   "id": "805959dd-0d0c-4338-b6f2-65edfb75ef82",
   "metadata": {},
   "outputs": [
    {
     "data": {
      "text/plain": [
       "'HIRU TB DEHICF'"
      ]
     },
     "execution_count": 66,
     "metadata": {},
     "output_type": "execute_result"
    }
   ],
   "source": [
    "SubEncryption(Text, Permutation)"
   ]
  },
  {
   "cell_type": "code",
   "execution_count": 67,
   "id": "8643aaa6-b76e-4d6c-921e-364a2e4d00f3",
   "metadata": {},
   "outputs": [
    {
     "data": {
      "text/plain": [
       "'NPSV TR ZENPBF'"
      ]
     },
     "execution_count": 67,
     "metadata": {},
     "output_type": "execute_result"
    }
   ],
   "source": [
    "SubDecryption('CEDY RH PUCEMB', Permutation)"
   ]
  },
  {
   "cell_type": "code",
   "execution_count": 68,
   "id": "2d5139b2-64d1-4f59-83a4-2d71ec58e8a6",
   "metadata": {},
   "outputs": [
    {
     "data": {
      "text/plain": [
       "'THE VARIOUS PATTERNS OF ACTIVITY ARE THOUGHT TO BE MAINLY ANTIPREDATOR ADAPTATIONS THOUGH SOME COULD EQUALLY WELL BE PREDATORY ADAPTATIONS MANY PREDATORS FORAGE MOST INTENSIVELY AT NIGHT WHEREAS OTHERS ARE ACTIVE AT MIDDAY AND SEE BEST IN FULL SUN THE CREPUSCULAR HABIT MAY BOTH REDUCE PREDATION PRESSURE INCREASING THE CREPUSCULAR POPULATIONS AND OFFER BETTER FORAGING OPPORTUNITIES TO PREDATORS THAT INCREASINGLY FOCUS THEIR ATTENTION ON CREPUSCULAR PREY UNTIL A NEW BALANCE IS STRUCK SUCH SHIFTING STATES OF BALANCE ARE OFTEN FOUND IN ECOLOGY SOME PREDATORY SPECIES ADJUST THEIR HABITS IN RESPONSE TO COMPETITION FROM OTHER PREDATORS FOR EXAMPLE THE SUBSPECIES OF SHORTEARED OWL THAT LIVES ON THE GALPAGOS ISLANDS IS NORMALLY ACTIVE DURING THE DAY BUT ON ISLANDS LIKE SANTA CRUZ THAT ARE HOME TO THE GALAPAGOS HAWK THE OWL IS CREPUSCULAR APART FROM THE RELEVANCE TO PREDATION CREPUSCULAR ACTIVITY IN HOT REGIONS ALSO MAY BE THE MOST EFFECTIVE WAY OF AVOIDING HEAT STRESS WHILE CAPITALIZING ON AVAILABLE LIGHT'"
      ]
     },
     "execution_count": 68,
     "metadata": {},
     "output_type": "execute_result"
    }
   ],
   "source": [
    "TestText = CleanText(\"The various patterns of activity are thought to be mainly antipredator adaptations, though some could equally well be predatory adaptations.[4] Many predators forage most intensively at night, whereas others are active at midday and see best in full sun. The crepuscular habit may both reduce predation pressure, increasing the crepuscular populations, and offer better foraging opportunities to predators that increasingly focus their attention on crepuscular prey until a new balance is struck. Such shifting states of balance are often found in ecology. Some predatory species adjust their habits in response to competition from other predators. For example, the subspecies of short-eared owl that lives on the Galápagos Islands is normally active during the day, but on islands like Santa Cruz that are home to the Galapagos hawk, the owl is crepuscular.[5][6] Apart from the relevance to predation, crepuscular activity in hot regions also may be the most effective way of avoiding heat stress while capitalizing on available light.\")\n",
    "TestText"
   ]
  },
  {
   "cell_type": "code",
   "execution_count": 69,
   "id": "70c461ab-04aa-458d-9324-f4e0be8bfaec",
   "metadata": {},
   "outputs": [
    {
     "data": {
      "image/png": "[encoded data removed]",
      "text/plain": [
       "Graphics object consisting of 1 graphics primitive"
      ]
     },
     "execution_count": 69,
     "metadata": {},
     "output_type": "execute_result"
    }
   ],
   "source": [
    "bar_chart(Frequencies(TestText))"
   ]
  },
  {
   "cell_type": "code",
   "execution_count": 70,
   "id": "3f9cd8ad-66a3-4509-a2a0-e09ca8fd2c49",
   "metadata": {},
   "outputs": [
    {
     "data": {
      "image/png": "[encoded data removed]",
      "text/plain": [
       "Graphics object consisting of 2 graphics primitives"
      ]
     },
     "execution_count": 70,
     "metadata": {},
     "output_type": "execute_result"
    }
   ],
   "source": [
    "CompareFreqs(EnglishFreqs, Frequencies(WikiText))"
   ]
  },
  {
   "cell_type": "code",
   "execution_count": 71,
   "id": "bbfe655f-204f-4096-9a33-fbf623acf92b",
   "metadata": {},
   "outputs": [
    {
     "data": {
      "image/png": "[encoded data removed]",
      "text/plain": [
       "Graphics object consisting of 1 graphics primitive"
      ]
     },
     "execution_count": 71,
     "metadata": {},
     "output_type": "execute_result"
    }
   ],
   "source": [
    "bar_chart(Frequencies(RandomText(1000)))"
   ]
  },
  {
   "cell_type": "code",
   "execution_count": 72,
   "id": "8da44a01-4b8e-4354-97ad-7f8c9db7d455",
   "metadata": {},
   "outputs": [
    {
     "data": {
      "text/plain": [
       "0.03902"
      ]
     },
     "execution_count": 72,
     "metadata": {},
     "output_type": "execute_result"
    }
   ],
   "source": [
    "IndexOfCoincidence(RandomText(1000))"
   ]
  },
  {
   "cell_type": "code",
   "execution_count": 73,
   "id": "f92163b1-c617-43c5-9fab-fd120fdb55a7",
   "metadata": {},
   "outputs": [
    {
     "data": {
      "text/plain": [
       "0.06466"
      ]
     },
     "execution_count": 73,
     "metadata": {},
     "output_type": "execute_result"
    }
   ],
   "source": [
    "IndexOfCoincidence(TestText)"
   ]
  },
  {
   "cell_type": "code",
   "execution_count": 78,
   "id": "faf1ddf5-b065-45ff-90c4-30535f76a52d",
   "metadata": {},
   "outputs": [
    {
     "data": {
      "text/plain": [
       "'HISTO RYIST HESYS TEMAT ICSTU DYOFT HEPAS TFOCU SINGP RIMAR ILYON THEHU MANPA STASA NACAD EMICD ISCIP LINEI TANAL YSESA NDINT ERPRE TSEVI DENCE TOCON STRUC TNARR ATIVE SABOU TWHAT HAPPE NEDAN DEXPL AINWH YANDH OWITH APPEN EDSOM ETHEO RISTS CATEG ORIZE HISTO RYASA SOCIA LSCIE NCEWH ILEOT HERSS EEITA SPART OFTHE HUMAN ITIES ORCON SIDER ITAHY BRIDD ISCIP LINES IMILA RDEBA TESSU RROUN DTHEP URPOS EOFHI STORY FOREX AMPLE WHETH ERITS MAINA IMIST HEORE TICAL TOUNC OVERT HETRU THORP RACTI CALTO LEARN LESSO NSFRO MTHEP ASTIN AMORE GENER ALSEN SETHE TERMH ISTOR YREFE RSNOT TOANA CADEM ICFIE LDBUT TOTHE PASTI TSELF TIMES INTHE PASTO RTOIN DIVID UALTE XTSAB OUTTH EPAST'"
      ]
     },
     "execution_count": 78,
     "metadata": {},
     "output_type": "execute_result"
    }
   ],
   "source": [
    "PlainText=Grouping(RemoveSpaces(CleanText('History is the systematic study of the past, focusing primarily on the human past. As an academic discipline, it analyses and interprets evidence to construct narratives about what happened and explain why and how it happened. Some theorists categorize history as a social science, while others see it as part of the humanities or consider it a hybrid discipline. Similar debates surround the purpose of history—for example, whether its main aim is theoretical, to uncover the truth, or practical, to learn lessons from the past. In a more general sense, the term history refers not to an academic field but to the past itself, times in the past, or to individual texts about the past.')),5)\n",
    "PlainText"
   ]
  },
  {
   "cell_type": "code",
   "execution_count": 81,
   "id": "21e8ef5f-a028-4065-a249-1233f6635f83",
   "metadata": {},
   "outputs": [
    {
     "data": {
      "text/plain": [
       "'WIFBQ GYVAV WEFGU IEZIV XCFBW SYBNV WECIU IFBKW HIAOR GIZIT XLLWP IHRPW BAAXC HTNAC CAPIF TMVKF XSPQR AIAMK IAAIN NSRAC CDVVV TRCZG ISRDK SEAKG IOPWP HTECE INNZT PTVDG HAOWW IWUIV WACXG CEQIP SEKXN PIAEJ NAALJ DWVBJ PPCMP TDFWO TTUMQ GIFBU RAGMI DRVHG WIFBQ GYNAC HOPQC ASPQG CCREJ XLRWV WEEAU TEVBC HPNZV DFGPG WUZIP XTVMU DRPWP HIQMT XTNPA QRVLF XSPQR AIAMU XMVTC GDRJC IEFAW GRBCP STUMR JRCWU TOSPK HTBZA UOEMZ PMCTG LHRBJ TRVBU BAVVC XMVAV WEBZG IIPIN IOHVE DVRZV WEGZW IHBZR GAPBK RAYBQ AENZP AEFAQ CSSZQ BTUMR PSGQP PMBZG VEAMT PLFMP HEGPG IEEUJ XSGWT NRRNG GSAWV IONVC RAQMO XCSQG ADOCV IOGPG EAFBK ISRTH IIZMU XNGPG EAFBQ GTBQP SIIQF JAYBG MTFID DUGBJ TPNAV'"
      ]
     },
     "execution_count": 81,
     "metadata": {},
     "output_type": "execute_result"
    }
   ],
   "source": [
    "CryptText = VigenereEncryption(PlainText, 'PANIC')\n",
    "CryptText"
   ]
  },
  {
   "cell_type": "code",
   "execution_count": 82,
   "id": "eba53259-8cba-491b-b5ed-e3d12d12832c",
   "metadata": {},
   "outputs": [
    {
     "data": {
      "text/plain": [
       "['WBYVFIICWBWIFWAGILPRBXTCPTKSRAIISCVTZSKAIWTENPDAWUWXEPKPEAJVPMDOUGBAIVWBYCPAQCJRWAECNDPUPVDWITNQLSRAXTDCFGCTRCTPTAEPTHJVBVMVBIIOERWZHRPRBEPFCZTRGPZETFHPEJGNNSVNRMCGOIPAKRIMNGFGQIFYMIUJN',\n",
       " 'IQVWGEVFSNEUBHOITLIPACNCIMFPAMANRCVRGRSKOPEIZTGOIIAGQSXIJADBPPFTMIUGDHIQNHQSGRXWEUVHZFGZXMRPQXPRFPAMMCRIARPUJWOKBUMMGRTBACVWZINHDZEWBGBAQNAASQUPQMGAPMEGEXWRGAIVAOSACOGFITIUGEBTPIJBTDGTA',\n",
       " 'FGAEUZXBYVCIKIRZXWHWAHAAFVXQIKANADVCIDEGPHCNTVHWWVCCIENANLWJCTWTQFRMRGFGAOCPCELVETBPVGWITUPHMTAVXQIUVGJEWBSMRUSHZOZCLBRUVXAEGPIVVVGIZAKYAZEQSBMSPBVMLPGIUSTRGWOCQXQDVGEBSHZXPAQBSQAGFDBPV']"
      ]
     },
     "execution_count": 82,
     "metadata": {},
     "output_type": "execute_result"
    }
   ],
   "source": [
    "PeriodicTexts(CryptText, 3)"
   ]
  },
  {
   "cell_type": "code",
   "execution_count": 83,
   "id": "c705f046-3a5b-404d-aa33-749ab484d9c4",
   "metadata": {},
   "outputs": [
    {
     "data": {
      "text/plain": [
       "0.04945"
      ]
     },
     "execution_count": 83,
     "metadata": {},
     "output_type": "execute_result"
    }
   ],
   "source": [
    "IndexOfCoincidence(PeriodicTexts(CryptText, 6)[3])"
   ]
  },
  {
   "cell_type": "code",
   "execution_count": 84,
   "id": "34871e88-cca6-42b0-9cd6-cf8946ef2ea6",
   "metadata": {},
   "outputs": [
    {
     "data": {
      "image/png": "[encoded data removed]",
      "text/plain": [
       "Graphics object consisting of 1 graphics primitive"
      ]
     },
     "execution_count": 84,
     "metadata": {},
     "output_type": "execute_result"
    }
   ],
   "source": [
    "MeanIndices = [0]\n",
    "for Period in range(1,12):\n",
    "    PTexts = PeriodicTexts(CryptText, Period)\n",
    "    Indices = []\n",
    "    for i in range(Period):\n",
    "        Indices.append(IndexOfCoincidence(PTexts[i]))\n",
    "    MeanIndices.append(mean(Indices))\n",
    "bar_chart(MeanIndices)"
   ]
  },
  {
   "cell_type": "code",
   "execution_count": 87,
   "id": "fc9dcc55-0fcc-4e3d-a0f3-e75060219154",
   "metadata": {},
   "outputs": [
    {
     "data": {
      "text/plain": [
       "['WGWIXSWIHGXIBHCTXAINCTISIHIPHIWCSPNDPTTGRDWGHACXWTHDWXDHXQXAXGIGSJTHUPLTBXWIIDWIGRAACBPPVPHIXNGIRXAIEIIXEGSJMDT',\n",
       " 'IYEECYEFIILHATAMSIASDRSEOTNTAWAEEIAWPDTIARIYOSCLEEPFUTRITRSIMDERTROTOMHRAMEIOVEHAAEESTSMELEESRSOACDOASINATIATUP',\n",
       " 'FVFZFBCBAZLRANPVPAARVCRAPENVOUCQKAAVCFUFGVFNPPRREVNGZVPQNVPAVRFBUCSBECRVVVBPHRGBPYNFSUGBAFGEGRANQSOGFRZGFBIYFGN',\n",
       " 'BAGIBNIKOIWPXAIKQMIAVZDKWCZDWIXIXELBMWMBMHBAQQEWABZPIMWMPLQMTJACMWPZMTBBVAZIVZZZBBZAZMQZMMPUWNWVMQCPBTMPBQQBIBA',\n",
       " 'QVUVWVUWRTPWCCFFRKNCVGKGPETGWVGPNJJJPOQUIGQCCGJVUCVGPUPTAFRUCCWPRUKAZGJUCVGNEVWRKQPQQRPGTPGJTGVCOGVGKHUGQPFGDJV']"
      ]
     },
     "execution_count": 87,
     "metadata": {},
     "output_type": "execute_result"
    }
   ],
   "source": [
    "PTexts = PeriodicTexts(CryptText, 5)\n",
    "PTexts"
   ]
  },
  {
   "cell_type": "code",
   "execution_count": 90,
   "id": "5e1deeba-3525-426b-9bbe-ee1441593bdf",
   "metadata": {},
   "outputs": [
    {
     "data": {
      "image/png": "[encoded data removed]",
      "text/plain": [
       "Graphics object consisting of 1 graphics primitive"
      ]
     },
     "execution_count": 90,
     "metadata": {},
     "output_type": "execute_result"
    }
   ],
   "source": [
    "bar_chart(Frequencies(PTexts[0]))"
   ]
  },
  {
   "cell_type": "code",
   "execution_count": 94,
   "id": "bf3c2852-7dfd-450a-b446-d4a1e5ec9ac2",
   "metadata": {},
   "outputs": [
    {
     "data": {
      "image/png": "[encoded data removed]",
      "text/plain": [
       "Graphics object consisting of 2 graphics primitives"
      ]
     },
     "execution_count": 94,
     "metadata": {},
     "output_type": "execute_result"
    }
   ],
   "source": [
    "CompareFreqs(EnglishFreqs, Frequencies(ShiftEncryption(PTexts[0],-15)))"
   ]
  },
  {
   "cell_type": "code",
   "execution_count": 106,
   "id": "0cdafd29-d993-4f43-bdcf-0e4616e362f7",
   "metadata": {},
   "outputs": [
    {
     "data": {
      "text/plain": [
       "'P'"
      ]
     },
     "execution_count": 106,
     "metadata": {},
     "output_type": "execute_result"
    }
   ],
   "source": [
    "Alphabet[15]"
   ]
  },
  {
   "cell_type": "code",
   "execution_count": 104,
   "id": "21ae33f3-5045-4825-9f4e-99dcd8de3021",
   "metadata": {},
   "outputs": [
    {
     "data": {
      "image/png": "[encoded data removed]",
      "text/plain": [
       "Graphics object consisting of 1 graphics primitive"
      ]
     },
     "execution_count": 104,
     "metadata": {},
     "output_type": "execute_result"
    }
   ],
   "source": [
    "ChiSquared(CryptText, 5, 4)"
   ]
  },
  {
   "cell_type": "code",
   "execution_count": 108,
   "id": "7bb32703-ccde-444c-938f-7e62d96addbb",
   "metadata": {},
   "outputs": [
    {
     "data": {
      "text/plain": [
       "'HISTORYISTHESYSTEMATICSTUDYOFTHEPASTFOCUSINGPRIMARILYONTHEHUMANPASTASANACADEMICDISCIPLINEITANALYSESANDINTERPRETSEVIDENCETOCONSTRUCTNARRATIVESABOUTWHATHAPPENEDANDEXPLAINWHYANDHOWITHAPPENEDSOMETHEORISTSCATEGORIZEHISTORYASASOCIALSCIENCEWHILEOTHERSSEEITASPARTOFTHEHUMANITIESORCONSIDERITAHYBRIDDISCIPLINESIMILARDEBATESSURROUNDTHEPURPOSEOFHISTORYFOREXAMPLEWHETHERITSMAINAIMISTHEORETICALTOUNCOVERTHETRUTHORPRACTICALTOLEARNLESSONSFROMTHEPASTINAMOREGENERALSENSETHETERMHISTORYREFERSNOTTOANACADEMICFIELDBUTTOTHEPASTITSELFTIMESINTHEPASTORTOINDIVIDUALTEXTSABOUTTHEPAST'"
      ]
     },
     "execution_count": 108,
     "metadata": {},
     "output_type": "execute_result"
    }
   ],
   "source": [
    "RemoveSpaces(VigenereDecryption(CryptText,'PANIC'))"
   ]
  },
  {
   "cell_type": "code",
   "execution_count": 11,
   "id": "fce0c0aa-7ff0-4e30-9df4-098e79a2755c",
   "metadata": {},
   "outputs": [
    {
     "data": {
      "text/plain": [
       "'PBLPK GMZAE OBEEG RIGCZ TITBA NLSRW WJFWJ HWGWV ITURL LCMQF VMXBL RVMPM WFWZG KIYUL CIBRJ WKGMN ULEAI CLITM PRHPC RMEAW VTAXW HYBBU VIHXI GARIX DRJCG GMZQA KMPZW PGXIA VVCGO RVEVM IPCWC WLVLM QGIYE IVAWQ KEXTQ YSFNX BBLLG ITNQI TBVPD YFXSA GGMBV TGYVX VREMG LEVLL CWWBJ EPWNV FMUAQ AYQQO MFWEE AAGSK GAIFS ZCKQR VHGLQ TFGQF XBKIF HNYSV IXWCW RTHWZ KAKMP ZSRAP ILKJQ KMAWQ KXAGG ERIZB SGJMP RHPCR MEESU MKUST VXZFZ EXXBU WTNTG RJXCD MPGRV KWYGJ CWQSX ITXVG ULCKI PLITX IPZGJ TZNUX GKJRZ EXXAQ AJHXZ RFXNR XBKWG LAVFK WGQDM ICUQY AXKXA YAOGW WQYMP ZWEVI HXIGA RIHXC GRGGB FFSPE MGZEN EGFGQ GVPNJ EEMME KGCGK UGSUX NEGQC LMYWG VBWAG JYXIC GRUHZ ZSWML BUWPC MBRJS HPPVU LOHLV XMGLB UWMTT JVDMV BMFVI RXVQA RIHVG ZIOTA XULQL MA'"
      ]
     },
     "execution_count": 11,
     "metadata": {},
     "output_type": "execute_result"
    }
   ],
   "source": [
    "# Can you decode the following crypttext?\n",
    "\n",
    "CryptText = \"PBLPK GMZAE OBEEG RIGCZ TITBA NLSRW WJFWJ HWGWV ITURL LCMQF VMXBL RVMPM WFWZG KIYUL CIBRJ WKGMN ULEAI CLITM PRHPC RMEAW VTAXW HYBBU VIHXI GARIX DRJCG GMZQA KMPZW PGXIA VVCGO RVEVM IPCWC WLVLM QGIYE IVAWQ KEXTQ YSFNX BBLLG ITNQI TBVPD YFXSA GGMBV TGYVX VREMG LEVLL CWWBJ EPWNV FMUAQ AYQQO MFWEE AAGSK GAIFS ZCKQR VHGLQ TFGQF XBKIF HNYSV IXWCW RTHWZ KAKMP ZSRAP ILKJQ KMAWQ KXAGG ERIZB SGJMP RHPCR MEESU MKUST VXZFZ EXXBU WTNTG RJXCD MPGRV KWYGJ CWQSX ITXVG ULCKI PLITX IPZGJ TZNUX GKJRZ EXXAQ AJHXZ RFXNR XBKWG LAVFK WGQDM ICUQY AXKXA YAOGW WQYMP ZWEVI HXIGA RIHXC GRGGB FFSPE MGZEN EGFGQ GVPNJ EEMME KGCGK UGSUX NEGQC LMYWG VBWAG JYXIC GRUHZ ZSWML BUWPC MBRJS HPPVU LOHLV XMGLB UWMTT JVDMV BMFVI RXVQA RIHVG ZIOTA XULQL MA\"\n",
    "CryptText"
   ]
  }
 ],
 "metadata": {
  "kernelspec": {
   "display_name": "SageMath 10.4",
   "language": "sage",
   "name": "sagemath-10.4"
  },
  "language_info": {
   "codemirror_mode": {
    "name": "ipython",
    "version": 3
   },
   "file_extension": ".py",
   "mimetype": "text/x-python",
   "name": "python",
   "nbconvert_exporter": "python",
   "pygments_lexer": "ipython3",
   "version": "3.12.4"
  }
 },
 "nbformat": 4,
 "nbformat_minor": 5
}
